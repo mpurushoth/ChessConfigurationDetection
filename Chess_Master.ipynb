{
 "cells": [
  {
   "cell_type": "markdown",
   "metadata": {
    "id": "tAy8R8M6z00f"
   },
   "source": [
    "# Preparing Data\n",
    "----"
   ]
  },
  {
   "cell_type": "code",
   "execution_count": null,
   "metadata": {
    "colab": {
     "base_uri": "https://localhost:8080/"
    },
    "id": "e_UMUY7Myt8l",
    "outputId": "9fdbd470-9a15-4b52-a3e1-2d6e7dd4803f"
   },
   "outputs": [],
   "source": [
    "from google.colab import drive\n",
    "drive.mount('/content/drive')"
   ]
  },
  {
   "cell_type": "code",
   "execution_count": null,
   "metadata": {
    "colab": {
     "base_uri": "https://localhost:8080/"
    },
    "id": "V8ExKmG1yy-y",
    "outputId": "b35c4d54-72d0-40d2-c16e-567a33ec6b9b"
   },
   "outputs": [],
   "source": [
    "!ls drive/MyDrive/Chess"
   ]
  },
  {
   "cell_type": "code",
   "execution_count": null,
   "metadata": {
    "id": "EYs5suqFy5DX"
   },
   "outputs": [],
   "source": [
    "!if [[ -e train ]]; then true; else unzip drive/MyDrive/Chess/train.zip > /dev/null ; fi;\n",
    "!if [[ -e val ]]; then true; else unzip drive/MyDrive/Chess/val.zip > /dev/null ; fi;\n",
    "!if [[ -e test ]]; then true; else unzip drive/MyDrive/Chess/test.zip > /dev/null ; fi;\n"
   ]
  },
  {
   "cell_type": "code",
   "execution_count": null,
   "metadata": {
    "id": "2unEV_CZ0afw"
   },
   "outputs": [],
   "source": [
    "!cp drive/MyDrive/Chess/train.csv ./\n",
    "!cp drive/MyDrive/Chess/val.csv ./\n",
    "!cp drive/MyDrive/Chess/sample_submission.csv ./"
   ]
  },
  {
   "cell_type": "code",
   "execution_count": null,
   "metadata": {
    "colab": {
     "base_uri": "https://localhost:8080/"
    },
    "id": "wishcHnx25y4",
    "outputId": "27c8fd9d-b900-4212-f8f2-d805f167734d"
   },
   "outputs": [],
   "source": [
    "!pip install chess"
   ]
  },
  {
   "cell_type": "markdown",
   "metadata": {
    "id": "2XaL6j_G0MwF"
   },
   "source": [
    "# Importing Packages"
   ]
  },
  {
   "cell_type": "code",
   "execution_count": null,
   "metadata": {
    "id": "JsV7pHgPzpkv"
   },
   "outputs": [],
   "source": [
    "import cv2\n",
    "import matplotlib.pyplot as plt\n",
    "import pandas as pd\n",
    "import tensorflow as tf\n",
    "\n",
    "from tqdm import tqdm\n",
    "from sklearn.model_selection import train_test_split"
   ]
  },
  {
   "cell_type": "code",
   "execution_count": null,
   "metadata": {
    "colab": {
     "base_uri": "https://localhost:8080/",
     "height": 402
    },
    "id": "4GETTD160X7-",
    "outputId": "1e242a5b-3edb-4ef6-d238-71dfb0c59808"
   },
   "outputs": [],
   "source": [
    "train_df = pd.read_csv('train.csv')\n",
    "train_df"
   ]
  },
  {
   "cell_type": "code",
   "execution_count": null,
   "metadata": {
    "colab": {
     "base_uri": "https://localhost:8080/",
     "height": 402
    },
    "id": "0JvCYn130thB",
    "outputId": "b05c016b-a297-4c5b-c2b6-176de2fd0efc"
   },
   "outputs": [],
   "source": [
    "val_df = pd.read_csv('val.csv')\n",
    "val_df"
   ]
  },
  {
   "cell_type": "markdown",
   "metadata": {
    "id": "e5nx6MCq2Hek"
   },
   "source": [
    "## Sample images"
   ]
  },
  {
   "cell_type": "code",
   "execution_count": null,
   "metadata": {
    "colab": {
     "base_uri": "https://localhost:8080/",
     "height": 758
    },
    "id": "Ei0HZIfb1Qms",
    "outputId": "9546466d-8377-498c-ace1-302f3af859a5"
   },
   "outputs": [],
   "source": [
    "fig=plt.figure(figsize=(15, 15))\n",
    "columns = 4\n",
    "rows = 5\n",
    "for i in range(1, columns*rows +1):\n",
    "    img = cv2.imread('train/'+str(train_df.iloc[i]['ImageID'])+'.jpg')\n",
    "    fig.add_subplot(rows, columns, i)\n",
    "    plt.imshow(img)\n",
    "plt.show()"
   ]
  },
  {
   "cell_type": "code",
   "execution_count": null,
   "metadata": {
    "colab": {
     "base_uri": "https://localhost:8080/",
     "height": 35
    },
    "id": "h6KPEFzY3bwJ",
    "outputId": "0e77563a-68a4-4f1d-8d90-c8f1f3bf17a3"
   },
   "outputs": [],
   "source": [
    "train_df.iloc[0].label"
   ]
  },
  {
   "cell_type": "markdown",
   "metadata": {
    "id": "IlPaDnc14GvL"
   },
   "source": [
    "#Parsing FEN notation"
   ]
  },
  {
   "cell_type": "code",
   "execution_count": null,
   "metadata": {
    "id": "DFeDDHrP4It9"
   },
   "outputs": [],
   "source": [
    "import chess\n",
    "import numpy as np"
   ]
  },
  {
   "cell_type": "code",
   "execution_count": null,
   "metadata": {
    "colab": {
     "base_uri": "https://localhost:8080/",
     "height": 286
    },
    "id": "HPbzza9Q8rz8",
    "outputId": "5ea6022e-53ba-4a2f-9d52-89e3634b0956"
   },
   "outputs": [],
   "source": [
    "img = cv2.imread('train/'+str(train_df.iloc[0]['ImageID'])+'.jpg', cv2.IMREAD_GRAYSCALE)\n",
    "img = cv2.resize(img, (256, 256))\n",
    "img = cv2.GaussianBlur(img,(3,3),cv2.BORDER_DEFAULT)\n",
    "plt.imshow(img)"
   ]
  },
  {
   "cell_type": "code",
   "execution_count": null,
   "metadata": {
    "colab": {
     "base_uri": "https://localhost:8080/",
     "height": 283
    },
    "id": "XnsgSc3082QL",
    "outputId": "bbf0f1e2-640c-4fc2-913d-8361cbe3d93a"
   },
   "outputs": [],
   "source": [
    "plt.imshow(img[:32, 32:64])"
   ]
  },
  {
   "cell_type": "code",
   "execution_count": null,
   "metadata": {
    "colab": {
     "base_uri": "https://localhost:8080/",
     "height": 283
    },
    "id": "uVWKkbnC9Ksx",
    "outputId": "78aee9f3-3e59-43e7-bd80-fc2949ea0b86"
   },
   "outputs": [],
   "source": [
    "plt.imshow(img[-32:, -32:])\n"
   ]
  },
  {
   "cell_type": "code",
   "execution_count": null,
   "metadata": {
    "colab": {
     "base_uri": "https://localhost:8080/"
    },
    "id": "8dTrDz974KtF",
    "outputId": "81b82578-ecb5-4156-c5b7-93434187ae15"
   },
   "outputs": [],
   "source": [
    "board = chess.Board(train_df.iloc[0].label)\n",
    "print(board)"
   ]
  },
  {
   "cell_type": "code",
   "execution_count": null,
   "metadata": {
    "colab": {
     "base_uri": "https://localhost:8080/"
    },
    "id": "Pqcnxfus4Kqh",
    "outputId": "055dce21-a8de-48b3-ee37-fb8993802177"
   },
   "outputs": [],
   "source": [
    "print(board.piece_at(chess.parse_square('a3')))"
   ]
  },
  {
   "cell_type": "code",
   "execution_count": null,
   "metadata": {
    "colab": {
     "base_uri": "https://localhost:8080/"
    },
    "id": "9P0WibJX4Kob",
    "outputId": "f85c816d-a188-4e2e-b36b-e39f574f2c12"
   },
   "outputs": [],
   "source": [
    "for square in chess.SquareSet(chess.BB_ALL):\n",
    "  print(str(board.piece_at(square)))"
   ]
  },
  {
   "cell_type": "code",
   "execution_count": null,
   "metadata": {
    "id": "ZhMdQpay60xK"
   },
   "outputs": [],
   "source": [
    "def encode_piece(piece: str):\n",
    "  if piece == 'None':\n",
    "    return 0\n",
    "  elif piece == 'K':\n",
    "    return 1\n",
    "  elif piece == 'Q':\n",
    "    return 2\n",
    "  elif piece == 'R':\n",
    "    return 3\n",
    "  elif piece == 'B':\n",
    "    return 4\n",
    "  elif piece == 'N':\n",
    "    return 5\n",
    "  elif piece == 'P':\n",
    "    return 6\n",
    "  elif piece == 'k':\n",
    "    return 7\n",
    "  elif piece == 'q':\n",
    "    return 8\n",
    "  elif piece == 'r':\n",
    "    return 9\n",
    "  elif piece == 'b':\n",
    "    return 10\n",
    "  elif piece == 'n':\n",
    "    return 11\n",
    "  else:\n",
    "    return 12\n",
    "  \n",
    "def preprocess_image(path: str):\n",
    "  img = cv2.imread(path, cv2.IMREAD_GRAYSCALE)\n",
    "  img = cv2.resize(img ,(256, 256))\n",
    "  img = cv2.GaussianBlur(img,(3,3),cv2.BORDER_DEFAULT)\n",
    "  cells = []\n",
    "  for i in range(256-32, -1, -32):\n",
    "    for j in range(0, 256-31, 32):\n",
    "      cells.append(img[i: i+32, j: j+32])\n",
    "  cells = np.array(cells)\n",
    "  return cells"
   ]
  },
  {
   "cell_type": "code",
   "execution_count": null,
   "metadata": {
    "colab": {
     "base_uri": "https://localhost:8080/"
    },
    "id": "PEt9Sgs6UR8j",
    "outputId": "250f362e-7bed-4149-fd4c-1781661c6268"
   },
   "outputs": [],
   "source": [
    "preprocess_image('train/'+str(train_df.iloc[0]['ImageID'])+'.jpg').shape"
   ]
  },
  {
   "cell_type": "code",
   "execution_count": null,
   "metadata": {
    "colab": {
     "base_uri": "https://localhost:8080/",
     "height": 364
    },
    "id": "CRSH-sU-XJE-",
    "outputId": "eebcf73a-5635-45bc-df3d-3d014299fa43"
   },
   "outputs": [],
   "source": [
    "X = []\n",
    "y = []\n",
    "\n",
    "for i in tqdm(range(len(train_df))):\n",
    "  imgID = str(train_df.iloc[i]['ImageID'])\n",
    "  img_path = 'train/'+imgID+'.jpg'\n",
    "\n",
    "  x = preprocess_image(img_path)\n",
    "  X.extend(x)\n",
    "\n",
    "  fen = train_df.iloc[i]['label']\n",
    "  board = chess.Board(fen)\n",
    "  for square in chess.SquareSet(chess.BB_ALL):\n",
    "    y.append(encode_piece(str(board.piece_at(square))))\n",
    "\n",
    "\n",
    "X = np.array(X)\n",
    "y = np.array(y)\n",
    "print('X is: ', X.shape)\n",
    "print('Y is: ', y.shape)"
   ]
  },
  {
   "cell_type": "code",
   "execution_count": null,
   "metadata": {
    "colab": {
     "base_uri": "https://localhost:8080/"
    },
    "id": "JmQyLotoc-LB",
    "outputId": "82b8f6e3-44e2-411e-a61c-3b9705788e35"
   },
   "outputs": [],
   "source": [
    "X_test = []\n",
    "y_test = []\n",
    "\n",
    "for i in tqdm(range(len(val_df))):\n",
    "  imgID = str(val_df.iloc[i]['ImageID'])\n",
    "  img_path = 'val/'+imgID+'.jpg'\n",
    "\n",
    "  x = preprocess_image(img_path)\n",
    "  X_test.extend(x)\n",
    "\n",
    "  fen = val_df.iloc[i]['label']\n",
    "  board = chess.Board(fen)\n",
    "  for square in chess.SquareSet(chess.BB_ALL):\n",
    "    y_test.append(encode_piece(str(board.piece_at(square))))\n",
    "\n",
    "\n",
    "X_test = np.array(X_test)\n",
    "y_test = np.array(y_test)\n",
    "print('X is: ', X_test.shape)\n",
    "print('Y is: ', y_test.shape)"
   ]
  },
  {
   "cell_type": "markdown",
   "metadata": {
    "id": "f-aZI44guxrr"
   },
   "source": [
    "#Undersampling Dataset"
   ]
  },
  {
   "cell_type": "code",
   "execution_count": null,
   "metadata": {
    "colab": {
     "base_uri": "https://localhost:8080/"
    },
    "id": "IqYOWrpzusNi",
    "outputId": "bef3167e-0e50-4471-dc73-049abf9380d4"
   },
   "outputs": [],
   "source": [
    "from collections import Counter\n",
    "from sklearn.datasets import make_classification\n",
    "from imblearn.under_sampling import RandomUnderSampler "
   ]
  },
  {
   "cell_type": "code",
   "execution_count": null,
   "metadata": {
    "colab": {
     "base_uri": "https://localhost:8080/"
    },
    "id": "-mNU7m7fs_en",
    "outputId": "4ed88e0f-86ab-4525-b99d-1d056f01ae1c"
   },
   "outputs": [],
   "source": [
    "Counter(y)"
   ]
  },
  {
   "cell_type": "markdown",
   "metadata": {
    "id": "OctP2xZnu2Tx"
   },
   "source": [
    "#### Pie chart of Class Distribution"
   ]
  },
  {
   "cell_type": "code",
   "execution_count": null,
   "metadata": {
    "colab": {
     "base_uri": "https://localhost:8080/",
     "height": 434
    },
    "id": "0ewEcaghv7_r",
    "outputId": "e73a1774-aa8e-4aea-d781-f262f35220af"
   },
   "outputs": [],
   "source": [
    "counts = Counter(y)\n",
    "plt.pie([float(v) for v in counts.values()], labels=[float(k) for k in counts],\n",
    "           autopct=None, radius=2, shadow=True,explode=(0, 0.2, 0, 0, 0, 0.2, 0, 0.2, 0, 0, 0, 0, 0))\n",
    "plt.show()"
   ]
  },
  {
   "cell_type": "code",
   "execution_count": null,
   "metadata": {
    "colab": {
     "base_uri": "https://localhost:8080/"
    },
    "id": "y_cIx51vwXqk",
    "outputId": "0d1bd29c-d23b-43bc-9006-ad68dca1baee"
   },
   "outputs": [],
   "source": [
    "X_reshaped = X.reshape(X.shape[0], -1)\n",
    "print('Reshaped X is: ', X_reshaped.shape)\n"
   ]
  },
  {
   "cell_type": "code",
   "execution_count": null,
   "metadata": {
    "colab": {
     "base_uri": "https://localhost:8080/"
    },
    "id": "B8oaSEiDqu6U",
    "outputId": "f8b0a1f4-8558-418a-a213-56793dd66e8a"
   },
   "outputs": [],
   "source": [
    "rus = RandomUnderSampler(random_state=42)\n",
    "X_res, y_res = rus.fit_resample(X_reshaped, y)\n",
    "print('Resampled dataset shape %s' % Counter(y_res))\n",
    "X_back = X_res.reshape(X_res.shape[0], 32, 32)\n",
    "print('X_back is: ', X_back.shape)\n",
    "print('y is: ', y_res.shape)"
   ]
  },
  {
   "cell_type": "code",
   "execution_count": null,
   "metadata": {
    "colab": {
     "base_uri": "https://localhost:8080/"
    },
    "id": "lu3btuylHNiF",
    "outputId": "f9a03dc7-c186-4aff-b245-ee0db0246ab3"
   },
   "outputs": [],
   "source": [
    "Counter(y_res)"
   ]
  },
  {
   "cell_type": "markdown",
   "metadata": {
    "id": "cuDyisqt2g26"
   },
   "source": [
    "#### Pie Chart after under sampling the dataset"
   ]
  },
  {
   "cell_type": "code",
   "execution_count": null,
   "metadata": {
    "colab": {
     "base_uri": "https://localhost:8080/",
     "height": 421
    },
    "id": "w7wUngtV2gmS",
    "outputId": "ccc2037c-984a-4de6-a080-e54a31aaf539"
   },
   "outputs": [],
   "source": [
    "counts = Counter(y_res)\n",
    "plt.pie([float(v) for v in counts.values()], labels=[float(k) for k in counts],\n",
    "           autopct=None, radius=2, shadow=True,)\n",
    "plt.show()"
   ]
  },
  {
   "cell_type": "code",
   "execution_count": null,
   "metadata": {
    "id": "q_5a4k0msvCe"
   },
   "outputs": [],
   "source": [
    "from keras.utils.np_utils import to_categorical "
   ]
  },
  {
   "cell_type": "code",
   "execution_count": null,
   "metadata": {
    "colab": {
     "base_uri": "https://localhost:8080/"
    },
    "id": "TfK82lK6sv8K",
    "outputId": "07c8a917-0bdb-4077-e0a3-4d97acafc816"
   },
   "outputs": [],
   "source": [
    "y_res_one_hot = to_categorical(y_res, num_classes=13)\n",
    "print('Shape of [y_res_one_hot]: ', y_res_one_hot.shape)\n",
    "y_test_one_hot=to_categorical(y_test,num_classes=13)\n",
    "print('Shape of [y_test_one_hot]: ', y_test_one_hot.shape)"
   ]
  },
  {
   "cell_type": "code",
   "execution_count": null,
   "metadata": {
    "id": "aXs_FjPQzgKA"
   },
   "outputs": [],
   "source": [
    "X = X.reshape(X.shape[0], 32,32, 1)"
   ]
  },
  {
   "cell_type": "code",
   "execution_count": null,
   "metadata": {
    "id": "N1jspLk0yxpU"
   },
   "outputs": [],
   "source": [
    "y_one_hot = to_categorical(y, num_classes=13)"
   ]
  },
  {
   "cell_type": "code",
   "execution_count": null,
   "metadata": {
    "id": "0CNpsVMCLzUv"
   },
   "outputs": [],
   "source": [
    "X_back=X_res.reshape(X_res.shape[0],32,32,1)\n",
    "X_test=X_test.reshape(X_test.shape[0],32,32,1)\n"
   ]
  },
  {
   "cell_type": "code",
   "execution_count": null,
   "metadata": {
    "colab": {
     "base_uri": "https://localhost:8080/"
    },
    "id": "SGERPUYUHr7o",
    "outputId": "0233a5df-3e09-412a-decf-70a9aad0a4a4"
   },
   "outputs": [],
   "source": [
    "print('Shape of [X_back] is: ', X_back.shape)"
   ]
  },
  {
   "cell_type": "markdown",
   "metadata": {
    "id": "KYoxtw8djSh2"
   },
   "source": [
    "# Model\n",
    "\n"
   ]
  },
  {
   "cell_type": "code",
   "execution_count": null,
   "metadata": {
    "id": "bRToYUn9yeUT"
   },
   "outputs": [],
   "source": [
    "from tensorflow.keras.models import Sequential\n",
    "from tensorflow.keras.layers import Dense, Conv2D, MaxPool2D,Flatten"
   ]
  },
  {
   "cell_type": "code",
   "execution_count": null,
   "metadata": {
    "id": "47eRuXyV-VzN"
   },
   "outputs": [],
   "source": [
    "from tensorflow.keras.callbacks import EarlyStopping\n",
    "es = EarlyStopping(monitor='val_loss', patience=3)"
   ]
  },
  {
   "cell_type": "markdown",
   "metadata": {
    "id": "uBOrcGlQ5dHv"
   },
   "source": [
    "## Training model\n"
   ]
  },
  {
   "cell_type": "code",
   "execution_count": null,
   "metadata": {
    "id": "o23xy9037qWu"
   },
   "outputs": [],
   "source": [
    "model=Sequential()\n",
    "model.add(Conv2D(16, (3,3), padding='same', activation=\"relu\",input_shape=(32,32,1)))\n",
    "model.add(MaxPool2D(2,2))\n",
    "model.add(Conv2D(32, (3,3), padding='same', activation=\"relu\"))\n",
    "model.add(MaxPool2D(2,2))\n",
    "model.add(Conv2D(64, (3,3), padding='same', activation=\"relu\"))\n",
    "model.add(MaxPool2D(2,2))\n",
    "model.add(Flatten())\n",
    "model.add(Dense(13,activation='softmax'))\n"
   ]
  },
  {
   "cell_type": "code",
   "execution_count": null,
   "metadata": {
    "id": "PjGLExtl7qXf"
   },
   "outputs": [],
   "source": [
    "from tensorflow.keras.optimizers import Adam"
   ]
  },
  {
   "cell_type": "code",
   "execution_count": null,
   "metadata": {
    "id": "qqM9vbpV7qXg"
   },
   "outputs": [],
   "source": [
    "optimizer=Adam(lr=1e-6)\n",
    "model.compile(optimizer=optimizer, loss='categorical_crossentropy', metrics=['accuracy'])"
   ]
  },
  {
   "cell_type": "code",
   "execution_count": null,
   "metadata": {
    "colab": {
     "base_uri": "https://localhost:8080/"
    },
    "id": "fb-vPT8j7qXh",
    "outputId": "95770c5a-bdd3-44fa-efbc-1e07996803d2"
   },
   "outputs": [],
   "source": [
    "model.summary()"
   ]
  },
  {
   "cell_type": "code",
   "execution_count": null,
   "metadata": {
    "colab": {
     "base_uri": "https://localhost:8080/"
    },
    "id": "HG0fnXLJVXP6",
    "outputId": "f60de3c8-17dc-451c-c414-f8223751b936"
   },
   "outputs": [],
   "source": [
    "history = model.fit(X_back, y_res_one_hot,validation_data=(X_test,y_test_one_hot), epochs=50, batch_size=1024, callbacks=[es])"
   ]
  },
  {
   "cell_type": "markdown",
   "metadata": {
    "id": "qVaCKsgHJ9wM"
   },
   "source": [
    "### Plotting model learning characteristics"
   ]
  },
  {
   "cell_type": "markdown",
   "metadata": {
    "id": "etFGbaDQKPht"
   },
   "source": [
    "#### Accuracy Plot"
   ]
  },
  {
   "cell_type": "code",
   "execution_count": null,
   "metadata": {
    "colab": {
     "base_uri": "https://localhost:8080/",
     "height": 295
    },
    "id": "-ZVwVxwKKBpk",
    "outputId": "bb071dad-12aa-4f8a-c0b0-5fb47636f222"
   },
   "outputs": [],
   "source": [
    "plt.plot(history.history['accuracy'])\n",
    "plt.plot(history.history['val_accuracy'])\n",
    "plt.title('model accuracy')\n",
    "plt.ylabel('accuracy')\n",
    "plt.xlabel('epoch')\n",
    "plt.legend(['train', 'test'], loc='upper left')\n",
    "plt.show()\n"
   ]
  },
  {
   "cell_type": "markdown",
   "metadata": {
    "id": "zs9M7JHKKRz4"
   },
   "source": [
    "#### Loss Plot"
   ]
  },
  {
   "cell_type": "code",
   "execution_count": null,
   "metadata": {
    "colab": {
     "base_uri": "https://localhost:8080/",
     "height": 295
    },
    "id": "UOMyQkjgKBmT",
    "outputId": "ec9c8787-6e40-483b-e5f8-77d6e99f0036"
   },
   "outputs": [],
   "source": [
    "# summarize history for loss\n",
    "plt.plot(history.history['loss'])\n",
    "plt.plot(history.history['val_loss'])\n",
    "plt.title('model loss')\n",
    "plt.ylabel('loss')\n",
    "plt.xlabel('epoch')\n",
    "plt.legend(['train', 'test'], loc='upper left')\n",
    "plt.show()"
   ]
  },
  {
   "cell_type": "markdown",
   "metadata": {
    "id": "eBz_VYmzYyoU"
   },
   "source": [
    "#### Classification Report"
   ]
  },
  {
   "cell_type": "code",
   "execution_count": null,
   "metadata": {
    "colab": {
     "base_uri": "https://localhost:8080/",
     "height": 162
    },
    "id": "eg2I0xs0Yyoc",
    "outputId": "bb4b6b18-128e-44b0-b3d1-db92b759f7ac"
   },
   "outputs": [],
   "source": [
    "y_pred=model.predict(X_test)"
   ]
  },
  {
   "cell_type": "code",
   "execution_count": null,
   "metadata": {
    "id": "xHo5TiI-Yyod"
   },
   "outputs": [],
   "source": [
    "y_pred=np.argmax(y_pred,axis=1)"
   ]
  },
  {
   "cell_type": "code",
   "execution_count": null,
   "metadata": {
    "colab": {
     "base_uri": "https://localhost:8080/"
    },
    "id": "Cw-O0dRyYyod",
    "outputId": "8c5ec444-ef11-4d8d-f9ce-bbb5f6d93410"
   },
   "outputs": [],
   "source": [
    "y_pred.shape\n"
   ]
  },
  {
   "cell_type": "code",
   "execution_count": null,
   "metadata": {
    "colab": {
     "base_uri": "https://localhost:8080/"
    },
    "id": "LIlaWS4cYyof",
    "outputId": "f9e91f84-a549-4bbb-e7c8-2fe275a73957"
   },
   "outputs": [],
   "source": [
    "from sklearn.metrics import classification_report, confusion_matrix\n",
    "print(\"Classification report:\\n\", classification_report(y_pred=y_pred,y_true=y_test))"
   ]
  },
  {
   "cell_type": "code",
   "execution_count": null,
   "metadata": {
    "id": "cZlWXmOGOU7P"
   },
   "outputs": [],
   "source": [
    "model.save('/content/drive/MyDrive/Chess/Checkpoint_Final.h5')"
   ]
  },
  {
   "cell_type": "markdown",
   "metadata": {
    "id": "EdkKs4QAKaT1"
   },
   "source": [
    "# Generating FEN on test set"
   ]
  },
  {
   "cell_type": "markdown",
   "metadata": {
    "id": "m8euqyOzeNRd"
   },
   "source": [
    "## Loading saved model from checkpoint"
   ]
  },
  {
   "cell_type": "code",
   "execution_count": null,
   "metadata": {
    "id": "LxISzmzhdp5s"
   },
   "outputs": [],
   "source": [
    "model = tf.keras.models.load_model('/content/drive/MyDrive/Chess/Checkpoint3.h5')"
   ]
  },
  {
   "cell_type": "code",
   "execution_count": null,
   "metadata": {
    "id": "q73B25GUPYJQ"
   },
   "outputs": [],
   "source": [
    "def decode_piece(piece: int):\n",
    "  if piece == 0:\n",
    "    return None\n",
    "  elif piece == 1:\n",
    "    return 'K'\n",
    "  elif piece == 2:\n",
    "    return 'Q'\n",
    "  elif piece == 3:\n",
    "    return 'R'\n",
    "  elif piece == 4:\n",
    "    return 'B'\n",
    "  elif piece == 5:\n",
    "    return 'N'\n",
    "  elif piece == 6:\n",
    "    return 'P'\n",
    "  elif piece == 7:\n",
    "    return 'k'\n",
    "  elif piece == 8:\n",
    "    return 'q'\n",
    "  elif piece == 9:\n",
    "    return 'r'\n",
    "  elif piece == 10:\n",
    "    return 'b'\n",
    "  elif piece == 11:\n",
    "    return 'n'\n",
    "  else:\n",
    "    return 'p'"
   ]
  },
  {
   "cell_type": "markdown",
   "metadata": {
    "id": "pUOPR0PDLhZs"
   },
   "source": [
    "## Loading Test Data"
   ]
  },
  {
   "cell_type": "code",
   "execution_count": null,
   "metadata": {
    "colab": {
     "base_uri": "https://localhost:8080/"
    },
    "id": "oChzEytwLkiL",
    "outputId": "a5239977-da6b-4c61-9fc5-4c1f9d6e363c"
   },
   "outputs": [],
   "source": [
    "X_val = []\n",
    "y_val = []\n",
    "\n",
    "for i in tqdm(range(len(val_df))):\n",
    "  imgID = str(val_df.iloc[i]['ImageID'])\n",
    "  img_path = 'val/'+imgID+'.jpg'\n",
    "\n",
    "  x = preprocess_image(img_path)\n",
    "  X_val.append(x)\n",
    "\n",
    "  fen = val_df.iloc[i]['label']\n",
    "  # board = chess.Board(fen)\n",
    "  # for square in chess.SquareSet(chess.BB_ALL):\n",
    "  #   y.append(encode_piece(str(board.piece_at(square))))\n",
    "  y_val.append(fen)\n",
    "\n",
    "X_val = np.array(X_val)\n",
    "# y = np.array(y)\n",
    "print('X is: ', X_val.shape)\n",
    "print('Y is: ', len(y_val))"
   ]
  },
  {
   "cell_type": "code",
   "execution_count": null,
   "metadata": {
    "id": "LDZhJbBfOALb"
   },
   "outputs": [],
   "source": [
    "def get_fen_image(cells):\n",
    "  global model\n",
    "  cells = cells.reshape(-1, 32, 32, 1)\n",
    "  y_pred = model.predict(cells)\n",
    "  y_pred = np.argmax(y_pred, axis=1)\n",
    "  pieces = []\n",
    "  board = chess.Board()\n",
    "  board.clear_board()\n",
    "  for i in y_pred:\n",
    "    pieces.append(decode_piece(i))\n",
    "  for counter, square in enumerate(chess.SquareSet(chess.BB_ALL)):\n",
    "      if pieces[counter] is not None:\n",
    "        piece = chess.Piece.from_symbol(pieces[counter])\n",
    "        board.set_piece_at(square, piece)\n",
    "  return board.fen().split(' ')[0]"
   ]
  },
  {
   "cell_type": "code",
   "execution_count": null,
   "metadata": {
    "colab": {
     "base_uri": "https://localhost:8080/"
    },
    "id": "VWvuYtbCNt9c",
    "outputId": "c1108fe9-c500-4081-c5b6-960afe7f53d3"
   },
   "outputs": [],
   "source": [
    "predicted_fen_array = []\n",
    "for example in tqdm(X_val):\n",
    "  predicted_fen = get_fen_image(example)\n",
    "  predicted_fen_array.append(predicted_fen)"
   ]
  },
  {
   "cell_type": "code",
   "execution_count": null,
   "metadata": {
    "id": "wTNJKgrnVd2q"
   },
   "outputs": [],
   "source": [
    "val_df['PredictedFEN'] = predicted_fen_array"
   ]
  },
  {
   "cell_type": "code",
   "execution_count": null,
   "metadata": {
    "colab": {
     "base_uri": "https://localhost:8080/",
     "height": 402
    },
    "id": "Jjqg_80vUijQ",
    "outputId": "bfab6f36-f245-4b20-cf08-8ec268939999"
   },
   "outputs": [],
   "source": [
    "val_df"
   ]
  },
  {
   "cell_type": "code",
   "execution_count": null,
   "metadata": {
    "colab": {
     "base_uri": "https://localhost:8080/"
    },
    "id": "Jxr0SHn8ZoXO",
    "outputId": "b9326305-fb4b-474d-ced0-68d35090f3a9"
   },
   "outputs": [],
   "source": [
    "!pip install jiwer"
   ]
  },
  {
   "cell_type": "code",
   "execution_count": null,
   "metadata": {
    "id": "8RgeiyTNZrp2"
   },
   "outputs": [],
   "source": [
    "import jiwer"
   ]
  },
  {
   "cell_type": "code",
   "execution_count": null,
   "metadata": {
    "colab": {
     "base_uri": "https://localhost:8080/"
    },
    "id": "Z0bUhICAa6_F",
    "outputId": "ba95a84f-01ef-427f-aefa-83f60d0caf44"
   },
   "outputs": [],
   "source": [
    "print(\"Word Error Rate[WER]: \", jiwer.wer(list(val_df['label']), list(val_df['PredictedFEN'])))"
   ]
  },
  {
   "cell_type": "markdown",
   "metadata": {
    "id": "e9uiTMnnG5Q2"
   },
   "source": [
    "# Confusion matrix"
   ]
  },
  {
   "cell_type": "code",
   "execution_count": null,
   "metadata": {
    "id": "kIExVchHG-S8"
   },
   "outputs": [],
   "source": [
    "#confusion matrix\n",
    "cm = confusion_matrix(y_true=y_test, y_pred=y_pred, labels=[0,1,2,3,4,5,6,7,8,9,10,11,12], sample_weight=None, normalize=None)"
   ]
  },
  {
   "cell_type": "code",
   "execution_count": null,
   "metadata": {
    "colab": {
     "base_uri": "https://localhost:8080/",
     "height": 877
    },
    "id": "Kfra8CYiHC_t",
    "outputId": "1c2633b6-f1d2-41c0-c7b2-fcfc419b126d"
   },
   "outputs": [],
   "source": [
    "#confusion matrix plot\n",
    "from mlxtend.plotting import plot_confusion_matrix\n",
    "\n",
    "plot_confusion_matrix(cm, figsize=(15,15), cmap=plt.cm.Dark2 )\n",
    "\n",
    "plt.show()"
   ]
  },
  {
   "cell_type": "markdown",
   "metadata": {
    "id": "F-sHcCgAh8SO"
   },
   "source": [
    "# Testing with sample image not in either dataset"
   ]
  },
  {
   "cell_type": "code",
   "execution_count": null,
   "metadata": {
    "colab": {
     "base_uri": "https://localhost:8080/",
     "height": 269
    },
    "id": "Wr1flUINiWEu",
    "outputId": "ebac3cb3-3dd8-4d89-8252-e66eed33025e"
   },
   "outputs": [],
   "source": [
    "# Image generated usign lichess\n",
    "img = cv2.imread('/content/drive/MyDrive/Chess/test.png', cv2.IMREAD_COLOR)\n",
    "plt.imshow(img)\n",
    "plt.show()"
   ]
  },
  {
   "cell_type": "code",
   "execution_count": null,
   "metadata": {
    "colab": {
     "base_uri": "https://localhost:8080/"
    },
    "id": "oNGwpF6Cic73",
    "outputId": "a9879063-1be3-420d-a091-676586634ba5"
   },
   "outputs": [],
   "source": [
    "print('FEN is: r1bq1rk1/p1p2ppp/8/3N4/2B5/8/PP1Q1PPP/R4RK1')"
   ]
  },
  {
   "cell_type": "code",
   "execution_count": null,
   "metadata": {
    "colab": {
     "base_uri": "https://localhost:8080/"
    },
    "id": "x2Sz_Eowh-1E",
    "outputId": "afa31639-c5cd-4e2a-d5f7-3c1ea4fd9ff4"
   },
   "outputs": [],
   "source": [
    "data = preprocess_image('/content/drive/MyDrive/Chess/test.png')\n",
    "print(\"Predicted FEN: \", get_fen_image(data))"
   ]
  },
  {
   "cell_type": "markdown",
   "metadata": {
    "id": "oC7ghbyNDtHd"
   },
   "source": [
    "# AICrowd Submission"
   ]
  },
  {
   "cell_type": "code",
   "execution_count": null,
   "metadata": {
    "colab": {
     "base_uri": "https://localhost:8080/",
     "height": 195
    },
    "id": "EDNQQ7iMDrAL",
    "outputId": "b75d0c7d-ccb8-4422-fadc-4896e25b41c0"
   },
   "outputs": [],
   "source": [
    "unseen_df = pd.read_csv('sample_submission.csv')\n",
    "unseen_df.head()"
   ]
  },
  {
   "cell_type": "code",
   "execution_count": null,
   "metadata": {
    "id": "5oKasxiOEET4"
   },
   "outputs": [],
   "source": [
    "ids = [i for i in range(10000)]\n",
    "submission_df = pd.DataFrame()\n",
    "submission_df['ImageID'] = ids"
   ]
  },
  {
   "cell_type": "code",
   "execution_count": null,
   "metadata": {
    "colab": {
     "base_uri": "https://localhost:8080/",
     "height": 402
    },
    "id": "PHn0hCX9FLb_",
    "outputId": "de172853-dbff-4cb7-f502-cf6b911b3525"
   },
   "outputs": [],
   "source": [
    "submission_df"
   ]
  },
  {
   "cell_type": "code",
   "execution_count": null,
   "metadata": {
    "colab": {
     "base_uri": "https://localhost:8080/"
    },
    "id": "_-2bQfdYEbFm",
    "outputId": "d0b808b7-756c-4a92-abc6-977a2f491bef"
   },
   "outputs": [],
   "source": [
    "submission_fen_array = []\n",
    "for i in tqdm(range(len(submission_df))):\n",
    "  imgID = str(submission_df.iloc[i]['ImageID'])\n",
    "  img_path = 'test/'+imgID+'.jpg'\n",
    "  example = preprocess_image(img_path)\n",
    "  predicted_fen = get_fen_image(example)\n",
    "  submission_fen_array.append(predicted_fen)\n"
   ]
  },
  {
   "cell_type": "code",
   "execution_count": null,
   "metadata": {
    "id": "60_SlhsEF1j6"
   },
   "outputs": [],
   "source": [
    "submission_df['label'] = submission_fen_array"
   ]
  },
  {
   "cell_type": "code",
   "execution_count": null,
   "metadata": {
    "id": "ouPJfJysHmrV"
   },
   "outputs": [],
   "source": [
    "submission_df.to_csv('submission.csv')"
   ]
  }
 ],
 "metadata": {
  "accelerator": "GPU",
  "colab": {
   "collapsed_sections": [],
   "name": "Chess_Master.ipynb",
   "provenance": [],
   "toc_visible": true
  },
  "kernelspec": {
   "display_name": "Python 3",
   "language": "python",
   "name": "python3"
  },
  "language_info": {
   "codemirror_mode": {
    "name": "ipython",
    "version": 3
   },
   "file_extension": ".py",
   "mimetype": "text/x-python",
   "name": "python",
   "nbconvert_exporter": "python",
   "pygments_lexer": "ipython3",
   "version": "3.7.6"
  }
 },
 "nbformat": 4,
 "nbformat_minor": 1
}
